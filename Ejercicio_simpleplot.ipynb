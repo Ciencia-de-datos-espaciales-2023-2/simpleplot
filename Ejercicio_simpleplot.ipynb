{
 "cells": [
  {
   "cell_type": "markdown",
   "id": "08be6b59",
   "metadata": {},
   "source": [
    "## Indicaciones\n",
    "\n",
    "4. Keep the maps for one country.\n",
    "5. Find the right CRS for the country, and make sure the other maps share the same one.\n",
    "6. Plot the projected maps like this:\n",
    "   \n",
    "   7.1 Each one independently.\n",
    "   \n",
    "   7.2 All together\n",
    "   \n",
    "   7.3 All together interactively\n",
    "8. Save the NON interactive map (6.2) as an image.\n",
    "9. Save the three reprojected maps  into one geopackage file.\n",
    "10. Get the link for the geopackage and make sure it is working well."
   ]
  }
 ],
 "metadata": {
  "kernelspec": {
   "display_name": "Python 3 (ipykernel)",
   "language": "python",
   "name": "python3"
  },
  "language_info": {
   "codemirror_mode": {
    "name": "ipython",
    "version": 3
   },
   "file_extension": ".py",
   "mimetype": "text/x-python",
   "name": "python",
   "nbconvert_exporter": "python",
   "pygments_lexer": "ipython3",
   "version": "3.11.4"
  }
 },
 "nbformat": 4,
 "nbformat_minor": 5
}
