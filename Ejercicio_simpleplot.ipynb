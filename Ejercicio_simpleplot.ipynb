{
 "cells": [
  {
   "cell_type": "markdown",
   "id": "08be6b59",
   "metadata": {},
   "source": [
    "## Indicaciones\n",
    "\n",
    "4. Keep the maps for one country.\n",
    "5. Find the right CRS for the country, and make sure the other maps share the same one.\n",
    "6. Plot the projected maps like this:\n",
    "   \n",
    "   7.1 Each one independently.\n",
    "   \n",
    "   7.2 All together\n",
    "   \n",
    "   7.3 All together interactively\n",
    "8. Save the NON interactive map (6.2) as an image.\n",
    "9. Save the three reprojected maps  into one geopackage file.\n",
    "10. Get the link for the geopackage and make sure it is working well."
   ]
  },
  {
   "cell_type": "code",
   "execution_count": 10,
   "id": "3195b389",
   "metadata": {},
   "outputs": [],
   "source": [
    "import os, geopandas as gpd\n",
    "#import shapely\n",
    "#import warnings\n",
    "#from shapely.errors import ShapelyDeprecationWarning\n",
    "#warnings.filterwarnings(\"ignore\", category=ShapelyDeprecationWarning) \n",
    "\n",
    "countries = gpd.read_file(os.path.join(\"maps\",\"World_Countries\",\"World_Countries.shp\"))\n",
    "China = countries[countries.COUNTRY=='China']\n",
    "\n",
    "rivers = gpd.read_file(os.path.join(\"maps\",\"World_Hydrography\",\"World_Hydrography.shp\"))\n",
    "China_rivers = gpd.clip(gdf=rivers, mask=China)\n",
    "\n",
    "cities = gpd.read_file(os.path.join(\"maps\",\"World_Cities\",\"World_Cities.shp\"))\n",
    "China_cities = cities[cities.COUNTRY=='China']"
   ]
  },
  {
   "cell_type": "code",
   "execution_count": 18,
   "id": "8efb4ad9",
   "metadata": {},
   "outputs": [
    {
     "data": {
      "text/plain": [
       "<Geographic 2D CRS: EPSG:4326>\n",
       "Name: WGS 84\n",
       "Axis Info [ellipsoidal]:\n",
       "- Lat[north]: Geodetic latitude (degree)\n",
       "- Lon[east]: Geodetic longitude (degree)\n",
       "Area of Use:\n",
       "- name: World.\n",
       "- bounds: (-180.0, -90.0, 180.0, 90.0)\n",
       "Datum: World Geodetic System 1984 ensemble\n",
       "- Ellipsoid: WGS 84\n",
       "- Prime Meridian: Greenwich"
      ]
     },
     "execution_count": 18,
     "metadata": {},
     "output_type": "execute_result"
    }
   ],
   "source": [
    "China.crs"
   ]
  },
  {
   "cell_type": "code",
   "execution_count": 21,
   "id": "24ed012a",
   "metadata": {},
   "outputs": [
    {
     "data": {
      "text/plain": [
       "<Geographic 2D CRS: EPSG:4326>\n",
       "Name: WGS 84\n",
       "Axis Info [ellipsoidal]:\n",
       "- Lat[north]: Geodetic latitude (degree)\n",
       "- Lon[east]: Geodetic longitude (degree)\n",
       "Area of Use:\n",
       "- name: World.\n",
       "- bounds: (-180.0, -90.0, 180.0, 90.0)\n",
       "Datum: World Geodetic System 1984 ensemble\n",
       "- Ellipsoid: WGS 84\n",
       "- Prime Meridian: Greenwich"
      ]
     },
     "execution_count": 21,
     "metadata": {},
     "output_type": "execute_result"
    }
   ],
   "source": [
    "China_rivers.crs"
   ]
  },
  {
   "cell_type": "code",
   "execution_count": 23,
   "id": "f4a38d3e",
   "metadata": {},
   "outputs": [
    {
     "data": {
      "text/plain": [
       "<Geographic 2D CRS: EPSG:4326>\n",
       "Name: WGS 84\n",
       "Axis Info [ellipsoidal]:\n",
       "- Lat[north]: Geodetic latitude (degree)\n",
       "- Lon[east]: Geodetic longitude (degree)\n",
       "Area of Use:\n",
       "- name: World.\n",
       "- bounds: (-180.0, -90.0, 180.0, 90.0)\n",
       "Datum: World Geodetic System 1984 ensemble\n",
       "- Ellipsoid: WGS 84\n",
       "- Prime Meridian: Greenwich"
      ]
     },
     "execution_count": 23,
     "metadata": {},
     "output_type": "execute_result"
    }
   ],
   "source": [
    "China_cities.crs"
   ]
  },
  {
   "cell_type": "markdown",
   "id": "ef91d514",
   "metadata": {},
   "source": [
    "## Mapas proyectados"
   ]
  },
  {
   "cell_type": "markdown",
   "id": "abe3a82a",
   "metadata": {},
   "source": [
    "### a) Individuales"
   ]
  },
  {
   "cell_type": "code",
   "execution_count": null,
   "id": "a6517d71",
   "metadata": {},
   "outputs": [],
   "source": []
  },
  {
   "cell_type": "markdown",
   "id": "5acb42c4",
   "metadata": {},
   "source": [
    "### b) En conjunto"
   ]
  },
  {
   "cell_type": "code",
   "execution_count": null,
   "id": "2addb647",
   "metadata": {},
   "outputs": [],
   "source": []
  },
  {
   "cell_type": "markdown",
   "id": "2f2e6578",
   "metadata": {},
   "source": [
    "### c) En conjunto e interactivo"
   ]
  }
 ],
 "metadata": {
  "kernelspec": {
   "display_name": "Python 3 (ipykernel)",
   "language": "python",
   "name": "python3"
  },
  "language_info": {
   "codemirror_mode": {
    "name": "ipython",
    "version": 3
   },
   "file_extension": ".py",
   "mimetype": "text/x-python",
   "name": "python",
   "nbconvert_exporter": "python",
   "pygments_lexer": "ipython3",
   "version": "3.11.5"
  }
 },
 "nbformat": 4,
 "nbformat_minor": 5
}
